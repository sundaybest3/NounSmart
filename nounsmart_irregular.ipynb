{
  "nbformat": 4,
  "nbformat_minor": 0,
  "metadata": {
    "colab": {
      "provenance": [],
      "authorship_tag": "ABX9TyO6bFEVU5lTZAv9DNnlyTWH",
      "include_colab_link": true
    },
    "kernelspec": {
      "name": "python3",
      "display_name": "Python 3"
    },
    "language_info": {
      "name": "python"
    }
  },
  "cells": [
    {
      "cell_type": "markdown",
      "metadata": {
        "id": "view-in-github",
        "colab_type": "text"
      },
      "source": [
        "<a href=\"https://colab.research.google.com/github/sundaybest3/NounSmart/blob/main/nounsmart_irregular.ipynb\" target=\"_parent\"><img src=\"https://colab.research.google.com/assets/colab-badge.svg\" alt=\"Open In Colab\"/></a>"
      ]
    },
    {
      "cell_type": "code",
      "execution_count": null,
      "metadata": {
        "id": "KKMC2UjoX6SO"
      },
      "outputs": [],
      "source": [
        "%%capture\n",
        "!pip install gradio pandas"
      ]
    },
    {
      "cell_type": "code",
      "source": [
        "import gradio as gr\n",
        "import pandas as pd\n",
        "import random\n",
        "\n",
        "# Load the CSV file from the provided URL\n",
        "csv_url = \"https://raw.githubusercontent.com/sundaybest3/NounSmart/refs/heads/main/Irregular_Nouns.csv\"\n",
        "df = pd.read_csv(csv_url)\n",
        "\n",
        "# Count the number of items in each CEFR level\n",
        "cefr_counts = df[\"CEFR Level\"].value_counts()\n",
        "cefr_levels_with_counts = [\n",
        "    f\"{level} ({cefr_counts.get(level, 0)} items)\"\n",
        "    for level in [\"A1\", \"A2\", \"B1\", \"B2\", \"C1\", \"C2\"]\n",
        "]\n",
        "\n",
        "# Function to initialize user-specific state\n",
        "def initialize_user_state():\n",
        "    return {\n",
        "        \"nickname\": None,\n",
        "        \"remaining_nouns\": pd.DataFrame(),\n",
        "        \"current_level\": None,\n",
        "        \"score\": 0,\n",
        "        \"trials\": 0,\n",
        "        \"current_index\": -1,\n",
        "        \"level_scores\": {level: {\"score\": 0, \"trials\": 0} for level in [\"A1\", \"A2\", \"B1\", \"B2\", \"C1\", \"C2\"]},\n",
        "    }\n",
        "\n",
        "# Function to set the user's nickname\n",
        "def set_nickname(nickname, user_state):\n",
        "    if not nickname.strip():\n",
        "        return user_state, \"Please enter a valid nickname.\"\n",
        "    user_state[\"nickname\"] = nickname.strip()\n",
        "    return user_state, f\"Hello, {user_state['nickname']}! Select a level that you want to practice.\"\n",
        "\n",
        "# Function to filter nouns by CEFR Level if the level changes\n",
        "def filter_nouns_if_needed(cefr_level_with_count, user_state):\n",
        "    if not user_state[\"nickname\"]:\n",
        "        return user_state, \"Please set your nickname to begin.\"\n",
        "\n",
        "    cefr_level = cefr_level_with_count.split(\" \")[0]  # Extract level (e.g., \"A1\" from \"A1 (10 items)\")\n",
        "    if user_state[\"current_level\"] != cefr_level:\n",
        "        filtered_nouns = df[df[\"CEFR Level\"] == cefr_level].copy()\n",
        "        if filtered_nouns.empty:\n",
        "            return user_state, f\"No nouns available for the Level: {cefr_level}. Please select a different level.\"\n",
        "        # Update the state\n",
        "        user_state[\"remaining_nouns\"] = filtered_nouns\n",
        "        user_state[\"current_level\"] = cefr_level\n",
        "        user_state[\"score\"] = 0\n",
        "        user_state[\"trials\"] = 0\n",
        "        user_state[\"current_index\"] = -1\n",
        "        return user_state, f\"Level {cefr_level} selected. Click 'Show the Noun' to start!\"\n",
        "    # If the level hasn't changed, do nothing\n",
        "    return user_state, None\n",
        "\n",
        "# Function to show the next noun\n",
        "def show_next_noun(cefr_level_with_count, user_state):\n",
        "    user_state, feedback = filter_nouns_if_needed(cefr_level_with_count, user_state)  # Filter nouns if needed\n",
        "    if user_state[\"remaining_nouns\"].empty:\n",
        "        return user_state, f\"🎉 Great job, {user_state['nickname']}! All nouns have been answered correctly. (Score: {user_state['score']}/{user_state['trials']})\", \"\"\n",
        "    user_state[\"current_index\"] = random.randint(0, len(user_state[\"remaining_nouns\"]) - 1)\n",
        "    selected_noun = user_state[\"remaining_nouns\"].iloc[user_state[\"current_index\"]]\n",
        "    return user_state, f\"What's the plural form of '{selected_noun['Singular']}'?\", \"\"\n",
        "\n",
        "# Function to check the user's answer\n",
        "def check_plural(user_plural, user_state):\n",
        "    if user_state[\"remaining_nouns\"].empty:\n",
        "        return user_state, f\"🎉 Great job, {user_state['nickname']}! All nouns have been answered correctly. (Score: {user_state['score']}/{user_state['trials']})\"\n",
        "\n",
        "    index = user_state[\"current_index\"]\n",
        "    if index == -1:\n",
        "        return user_state, f\"Please click 'Show the Noun' first. (Score: {user_state['score']}/{user_state['trials']})\"\n",
        "\n",
        "    noun_data = user_state[\"remaining_nouns\"].iloc[index]\n",
        "    singular = noun_data[\"Singular\"]\n",
        "    correct_plural = noun_data[\"Plural\"]\n",
        "\n",
        "    # Update trials\n",
        "    user_state[\"trials\"] += 1\n",
        "    user_state[\"level_scores\"][user_state[\"current_level\"]][\"trials\"] += 1\n",
        "\n",
        "    if user_plural.lower() == correct_plural.lower():\n",
        "        user_state[\"score\"] += 1\n",
        "        user_state[\"level_scores\"][user_state[\"current_level\"]][\"score\"] += 1\n",
        "        feedback = f\"✅ Correct! '{correct_plural}' is the plural form of '{singular}' Click 'Show the Noun' to continue.\"\n",
        "        # Remove the correctly answered noun\n",
        "        user_state[\"remaining_nouns\"] = user_state[\"remaining_nouns\"].drop(user_state[\"remaining_nouns\"].index[index])\n",
        "    else:\n",
        "        feedback = f\"❌ Incorrect. The correct plural form is '{correct_plural}' for '{singular}'. This will appear again. Click 'Show the Noun' to continue.\"\n",
        "\n",
        "    if user_state[\"remaining_nouns\"].empty:\n",
        "        feedback = f\"🎉 Great job, {user_state['nickname']}! All nouns have been answered correctly. (Score: {user_state['score']}/{user_state['trials']})\"\n",
        "\n",
        "    return user_state, feedback\n",
        "\n",
        "# Function to display the total score\n",
        "def display_total_score(user_state):\n",
        "    total_score = \", \".join(\n",
        "        f\"{level}({user_state['level_scores'][level]['score']}/{user_state['level_scores'][level]['trials']})\"\n",
        "        for level in [\"A1\", \"A2\", \"B1\", \"B2\", \"C1\", \"C2\"]\n",
        "    )\n",
        "    return f\"{user_state['nickname']}'s Total Scores: {total_score}\"\n",
        "\n",
        "# Gradio interface\n",
        "with gr.Blocks() as app:\n",
        "    gr.Markdown(\"# NounSmart: Practice Irregular Plural Nouns\")\n",
        "\n",
        "    # Nickname input\n",
        "    nickname_input = gr.Textbox(label=\"Enter your nickname to start.\")\n",
        "    set_nickname_button = gr.Button(\"Set Nickname\")\n",
        "    nickname_display = gr.Textbox(label=\"Next Step\", interactive=False)\n",
        "\n",
        "    # Dropdown for CEFR Level selection with item counts\n",
        "    cefr_dropdown = gr.Dropdown(\n",
        "        label=\"Select a Level\",\n",
        "        choices=cefr_levels_with_counts,\n",
        "        value=cefr_levels_with_counts[0],\n",
        "        interactive=True\n",
        "    )\n",
        "\n",
        "    # Button to display a noun\n",
        "    show_button = gr.Button(\"Show the Noun\")\n",
        "    noun_display = gr.Textbox(label=\"Singular Noun\", value=\"Set your nickname and select a level\", interactive=False)\n",
        "\n",
        "    # Text input for plural form\n",
        "    plural_input = gr.Textbox(label=\"Type your answer here\", placeholder=\"Enter the plural form\")\n",
        "\n",
        "    # Submit button and combined feedback + score display\n",
        "    submit_button = gr.Button(\"See the Answer and Feedback\")\n",
        "    feedback_display = gr.Textbox(label=\"Feedback and Score\", interactive=False)\n",
        "\n",
        "    # Total score display\n",
        "    total_score_button = gr.Button(\"Show Total Scores\")\n",
        "    total_score_display = gr.Textbox(label=\"Total Score by Levels\", interactive=False)\n",
        "\n",
        "    # Initialize state\n",
        "    state = gr.State(initialize_user_state())\n",
        "\n",
        "    # Button click actions\n",
        "    set_nickname_button.click(fn=set_nickname, inputs=[nickname_input, state], outputs=[state, nickname_display])\n",
        "    show_button.click(fn=show_next_noun, inputs=[cefr_dropdown, state], outputs=[state, noun_display, plural_input])\n",
        "    submit_button.click(fn=check_plural, inputs=[plural_input, state], outputs=[state, feedback_display])\n",
        "    total_score_button.click(fn=display_total_score, inputs=state, outputs=total_score_display)\n",
        "\n",
        "app.launch()\n"
      ],
      "metadata": {
        "colab": {
          "base_uri": "https://localhost:8080/",
          "height": 651
        },
        "id": "S-kCfB-Z70UH",
        "outputId": "f49cf05c-1087-4a5f-9357-453a0fcb4c16"
      },
      "execution_count": null,
      "outputs": [
        {
          "output_type": "stream",
          "name": "stdout",
          "text": [
            "Running Gradio in a Colab notebook requires sharing enabled. Automatically setting `share=True` (you can turn this off by setting `share=False` in `launch()` explicitly).\n",
            "\n",
            "Colab notebook detected. To show errors in colab notebook, set debug=True in launch()\n",
            "* Running on public URL: https://b2f67638f48d6f7831.gradio.live\n",
            "\n",
            "This share link expires in 72 hours. For free permanent hosting and GPU upgrades, run `gradio deploy` from the terminal in the working directory to deploy to Hugging Face Spaces (https://huggingface.co/spaces)\n"
          ]
        },
        {
          "output_type": "display_data",
          "data": {
            "text/plain": [
              "<IPython.core.display.HTML object>"
            ],
            "text/html": [
              "<div><iframe src=\"https://b2f67638f48d6f7831.gradio.live\" width=\"100%\" height=\"500\" allow=\"autoplay; camera; microphone; clipboard-read; clipboard-write;\" frameborder=\"0\" allowfullscreen></iframe></div>"
            ]
          },
          "metadata": {}
        },
        {
          "output_type": "execute_result",
          "data": {
            "text/plain": []
          },
          "metadata": {},
          "execution_count": 12
        }
      ]
    }
  ]
}