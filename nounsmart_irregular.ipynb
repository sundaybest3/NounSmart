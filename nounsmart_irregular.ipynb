{
  "nbformat": 4,
  "nbformat_minor": 0,
  "metadata": {
    "colab": {
      "provenance": [],
      "authorship_tag": "ABX9TyM/Zm7KPGdD5zi84WiYPyHA",
      "include_colab_link": true
    },
    "kernelspec": {
      "name": "python3",
      "display_name": "Python 3"
    },
    "language_info": {
      "name": "python"
    }
  },
  "cells": [
    {
      "cell_type": "markdown",
      "metadata": {
        "id": "view-in-github",
        "colab_type": "text"
      },
      "source": [
        "<a href=\"https://colab.research.google.com/github/sundaybest3/NounSmart/blob/main/nounsmart_irregular.ipynb\" target=\"_parent\"><img src=\"https://colab.research.google.com/assets/colab-badge.svg\" alt=\"Open In Colab\"/></a>"
      ]
    },
    {
      "cell_type": "code",
      "execution_count": null,
      "metadata": {
        "id": "KKMC2UjoX6SO"
      },
      "outputs": [],
      "source": [
        "%%capture\n",
        "!pip install gradio pandas"
      ]
    },
    {
      "cell_type": "code",
      "source": [
        "#@markdown APP [6] Plural noun practice: CEFR version with session state\n",
        "import gradio as gr\n",
        "import pandas as pd\n",
        "import random\n",
        "\n",
        "# Load the CSV file from the provided URL\n",
        "csv_url = \"https://raw.githubusercontent.com/sundaybest3/NounSmart/refs/heads/main/Irregular_Nouns.csv\"\n",
        "df = pd.read_csv(csv_url)\n",
        "\n",
        "# Count the number of items in each CEFR level\n",
        "cefr_counts = df[\"CEFR Level\"].value_counts()\n",
        "cefr_levels_with_counts = [\n",
        "    f\"{level} ({cefr_counts.get(level, 0)} items)\"\n",
        "    for level in [\"A1\", \"A2\", \"B1\", \"B2\", \"C1\", \"C2\"]\n",
        "]\n",
        "\n",
        "# Function to initialize user-specific state\n",
        "def initialize_user_state():\n",
        "    return {\"remaining_nouns\": pd.DataFrame(), \"score\": 0, \"trials\": 0, \"current_index\": -1}\n",
        "\n",
        "# Function to filter nouns by CEFR Level\n",
        "def filter_by_cefr(cefr_level_with_count, user_state):\n",
        "    cefr_level = cefr_level_with_count.split(\" \")[0]  # Extract level (e.g., \"A1\" from \"A1 (10 items)\")\n",
        "    filtered_nouns = df[df[\"CEFR Level\"] == cefr_level].copy()\n",
        "    if filtered_nouns.empty:\n",
        "        return user_state, \"No nouns available for this CEFR level. Please select a different level.\"\n",
        "    user_state[\"remaining_nouns\"] = filtered_nouns\n",
        "    user_state[\"score\"] = 0\n",
        "    user_state[\"trials\"] = 0\n",
        "    user_state[\"current_index\"] = -1\n",
        "    return user_state, f\"Selected CEFR Level: {cefr_level}. Click 'Show the Noun' to start!\"\n",
        "\n",
        "# Function to show the next noun\n",
        "def show_next_noun(user_state):\n",
        "    if user_state[\"remaining_nouns\"].empty:\n",
        "        return user_state, \"All nouns have been answered correctly. Great job!\", \"\"\n",
        "    user_state[\"current_index\"] = random.randint(0, len(user_state[\"remaining_nouns\"]) - 1)\n",
        "    selected_noun = user_state[\"remaining_nouns\"].iloc[user_state[\"current_index\"]]\n",
        "    return user_state, f\"What's the plural form of '{selected_noun['Singular']}'?\", \"\"\n",
        "\n",
        "# Function to check the user's answer\n",
        "def check_plural(user_plural, user_state):\n",
        "    if user_state[\"remaining_nouns\"].empty:\n",
        "        return user_state, \"All nouns have been answered correctly. Great job! (Score: {user_state['score']}/{user_state['trials']})\"\n",
        "\n",
        "    index = user_state[\"current_index\"]\n",
        "    if index == -1:\n",
        "        return user_state, \"Please click 'Show the Noun' first. (Score: {user_state['score']}/{user_state['trials']})\"\n",
        "\n",
        "    noun_data = user_state[\"remaining_nouns\"].iloc[index]\n",
        "    singular = noun_data[\"Singular\"]\n",
        "    correct_plural = noun_data[\"Plural\"]\n",
        "\n",
        "    # Update trials\n",
        "    user_state[\"trials\"] += 1\n",
        "\n",
        "    if user_plural.lower() == correct_plural.lower():\n",
        "        user_state[\"score\"] += 1\n",
        "        feedback = f\"Correct! '{correct_plural}' is the plural form of '{singular}'.\"\n",
        "        # Remove the correctly answered noun\n",
        "        user_state[\"remaining_nouns\"] = user_state[\"remaining_nouns\"].drop(user_state[\"remaining_nouns\"].index[index])\n",
        "    else:\n",
        "        feedback = f\"Incorrect. The correct plural form is '{correct_plural}' for '{singular}'. It will appear again.\"\n",
        "\n",
        "    if user_state[\"remaining_nouns\"].empty:\n",
        "        return user_state, f\"All nouns have been answered correctly. Great job! (Score: {user_state['score']}/{user_state['trials']})\"\n",
        "\n",
        "    return user_state, f\"{feedback} (Score: {user_state['score']}/{user_state['trials']})\"\n",
        "\n",
        "# Gradio interface\n",
        "with gr.Blocks() as app:\n",
        "    gr.Markdown(\"### NounSmart: Practice Irregular Plural Nouns\")\n",
        "    gr.Markdown(\"\"\"\n",
        "    ### How to Use the App\n",
        "    1. **Select a CEFR Level to start.**\n",
        "    2. **Click 'Show the Noun' to display a singular noun.**\n",
        "    3. **Type its plural form and click 'See the Answer and Feedback' to check.**\n",
        "    4. **Repeat until all answers are correct.**\n",
        "    \"\"\")\n",
        "\n",
        "    # Dropdown for CEFR Level selection with item counts\n",
        "    cefr_dropdown = gr.Dropdown(\n",
        "        label=\"Select CEFR Level\",\n",
        "        choices=cefr_levels_with_counts,\n",
        "        value=cefr_levels_with_counts[0],\n",
        "        interactive=True\n",
        "    )\n",
        "    filter_button = gr.Button(\"Filter by CEFR Level\")\n",
        "    filter_feedback = gr.Textbox(label=\"CEFR Level Feedback\", interactive=False)\n",
        "\n",
        "    # Button to display a noun\n",
        "    show_button = gr.Button(\"Show the Noun\")\n",
        "    noun_display = gr.Textbox(label=\"Singular Noun\", value=\"Select a CEFR level to start\", interactive=False)\n",
        "\n",
        "    # Text input for plural form\n",
        "    plural_input = gr.Textbox(label=\"Your answer\", placeholder=\"Type your answer here\")\n",
        "\n",
        "    # Submit button and combined feedback + score display\n",
        "    submit_button = gr.Button(\"See the Answer and Feedback\")\n",
        "    feedback_display = gr.Textbox(label=\"Feedback and Score\", interactive=False)\n",
        "\n",
        "    # Initialize state\n",
        "    state = gr.State(initialize_user_state())\n",
        "\n",
        "    # Button click actions\n",
        "    filter_button.click(fn=filter_by_cefr, inputs=[cefr_dropdown, state], outputs=[state, filter_feedback])\n",
        "    show_button.click(fn=show_next_noun, inputs=state, outputs=[state, noun_display, plural_input])\n",
        "    submit_button.click(fn=check_plural, inputs=[plural_input, state], outputs=[state, feedback_display])\n",
        "\n",
        "app.launch()\n"
      ],
      "metadata": {
        "colab": {
          "base_uri": "https://localhost:8080/",
          "height": 652
        },
        "id": "va4drn3DalUS",
        "outputId": "707474e1-fc0f-4b21-ff93-460ef843f472"
      },
      "execution_count": null,
      "outputs": [
        {
          "output_type": "stream",
          "name": "stdout",
          "text": [
            "Running Gradio in a Colab notebook requires sharing enabled. Automatically setting `share=True` (you can turn this off by setting `share=False` in `launch()` explicitly).\n",
            "\n",
            "Colab notebook detected. To show errors in colab notebook, set debug=True in launch()\n",
            "* Running on public URL: https://6a001008599b8b5ae2.gradio.live\n",
            "\n",
            "This share link expires in 72 hours. For free permanent hosting and GPU upgrades, run `gradio deploy` from the terminal in the working directory to deploy to Hugging Face Spaces (https://huggingface.co/spaces)\n"
          ]
        },
        {
          "output_type": "display_data",
          "data": {
            "text/plain": [
              "<IPython.core.display.HTML object>"
            ],
            "text/html": [
              "<div><iframe src=\"https://6a001008599b8b5ae2.gradio.live\" width=\"100%\" height=\"500\" allow=\"autoplay; camera; microphone; clipboard-read; clipboard-write;\" frameborder=\"0\" allowfullscreen></iframe></div>"
            ]
          },
          "metadata": {}
        },
        {
          "output_type": "execute_result",
          "data": {
            "text/plain": []
          },
          "metadata": {},
          "execution_count": 2
        }
      ]
    }
  ]
}